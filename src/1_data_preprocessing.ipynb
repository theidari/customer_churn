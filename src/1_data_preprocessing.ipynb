{
 "cells": [
  {
   "cell_type": "markdown",
   "id": "d5505496-e579-437f-9290-07463938a94e",
   "metadata": {},
   "source": [
    "<h1>1- Data Preprocessing</h1>"
   ]
  },
  {
   "cell_type": "markdown",
   "id": "791b79cc-37f1-4750-abaf-d15ddc2d1d95",
   "metadata": {},
   "source": [
    "<p align=\"justify\" style=\"border: 1px solid black; padding: 10px; border-radius: 5px;\">This notebook serves as the initial stage in our data analysis pipeline focusing on the \"member\", \"transactions\" and \"user logs\" tables from our dataset. It covers key preliminary steps such as data cleaning, type casting, and null value handling, ensuring the data is ready for analysis. Special attention is given to identify data noise and duplicate instances based on specific attributes.</p>"
   ]
  },
  {
   "cell_type": "code",
   "execution_count": 1,
   "id": "344dcd4f-272f-4b8d-92d9-3728e5df799b",
   "metadata": {},
   "outputs": [
    {
     "name": "stdout",
     "output_type": "stream",
     "text": [
      "Package: Resources loaded. ☑\n"
     ]
    }
   ],
   "source": [
    "# Dependencies and Setup\n",
    "import package as pk"
   ]
  },
  {
   "cell_type": "markdown",
   "id": "b1e7555b-df04-45d7-806f-325fbb07d136",
   "metadata": {},
   "source": [
    "<h2>1-1- Data Collection</h2>"
   ]
  },
  {
   "cell_type": "code",
   "execution_count": 2,
   "id": "80ce3dde-7af0-401e-847d-66ee578ceedf",
   "metadata": {},
   "outputs": [
    {
     "name": "stdout",
     "output_type": "stream",
     "text": [
      "member\n"
     ]
    },
    {
     "name": "stderr",
     "output_type": "stream",
     "text": [
      "                                                                                \r"
     ]
    },
    {
     "name": "stdout",
     "output_type": "stream",
     "text": [
      "+--------------------+----+---+------+--------------+----------------------+\n",
      "|                msno|city| bd|gender|registered_via|registration_init_time|\n",
      "+--------------------+----+---+------+--------------+----------------------+\n",
      "|8weIFLAcRU/dYHiOc...|   1|  0|  null|             9|              20120320|\n",
      "+--------------------+----+---+------+--------------+----------------------+\n",
      "only showing top 1 row\n",
      "\n",
      "user\n",
      "+--------------------+--------+------+------+------+-------+-------+-------+----------+\n",
      "|                msno|    date|num_25|num_50|num_75|num_985|num_100|num_unq|total_secs|\n",
      "+--------------------+--------+------+------+------+-------+-------+-------+----------+\n",
      "|FnqNUBvN8mysLeKba...|20160119|    34|     1|     1|      1|     88|    108| 24172.471|\n",
      "+--------------------+--------+------+------+------+-------+-------+-------+----------+\n",
      "only showing top 1 row\n",
      "\n",
      "transactions\n",
      "+--------------------+-----------------+-----------------+---------------+------------------+-------------+----------------+----------------------+---------+\n",
      "|                msno|payment_method_id|payment_plan_days|plan_list_price|actual_amount_paid|is_auto_renew|transaction_date|membership_expire_date|is_cancel|\n",
      "+--------------------+-----------------+-----------------+---------------+------------------+-------------+----------------+----------------------+---------+\n",
      "|N13/tGXlfPZCYcDEZ...|                2|              195|            894|               894|            0|        20150126|              20150809|        0|\n",
      "+--------------------+-----------------+-----------------+---------------+------------------+-------------+----------------+----------------------+---------+\n",
      "only showing top 1 row\n",
      "\n",
      "train\n",
      "+--------------------+--------+\n",
      "|                msno|is_churn|\n",
      "+--------------------+--------+\n",
      "|waLDQMmcOu2jLDaV1...|       1|\n",
      "+--------------------+--------+\n",
      "only showing top 1 row\n",
      "\n"
     ]
    }
   ],
   "source": [
    "# Instantiate the 'DataToSpark' class to handle KKBOX data\n",
    "kkbox = pk.DataToSpark(\"customer-churn-391917\", \"kkbox\")\n",
    "\n",
    "# Load specific tables into DataFrames\n",
    "tables_to_load = [\"member\", \"user\", \"transactions\", \"train\"]\n",
    "kkbox.load_tables(tables_to_load)\n",
    "\n",
    "# Retrieve the stored DataFrames\n",
    "tables = kkbox.get_tables()\n",
    "\n",
    "# Display the first row of each table DataFrame\n",
    "for table_name, table_df in tables.items():\n",
    "    print(table_name)\n",
    "    table_df.show(1)"
   ]
  },
  {
   "cell_type": "markdown",
   "id": "abc33cdc-0a69-4016-96a4-5908bba6b8cc",
   "metadata": {},
   "source": [
    "<h2>2-1- Exploratory Data Analysis (EDA)</h2>"
   ]
  },
  {
   "cell_type": "markdown",
   "id": "fac50c19-608f-4455-88bf-5479ddbe8d9e",
   "metadata": {},
   "source": [
    "<h3>1-2-1- Members Dataset</h3>"
   ]
  },
  {
   "cell_type": "code",
   "execution_count": 3,
   "id": "1dac21f8-6c14-4bb8-8964-a34d2125daa2",
   "metadata": {},
   "outputs": [
    {
     "name": "stderr",
     "output_type": "stream",
     "text": [
      "                                                                                \r"
     ]
    },
    {
     "name": "stdout",
     "output_type": "stream",
     "text": [
      "shape\n",
      " |-- rows: 877161\n",
      " |-- columns: 6\n",
      "root\n",
      " |-- msno: string (nullable = true)\n",
      " |-- city: long (nullable = true)\n",
      " |-- bd: long (nullable = true)\n",
      " |-- gender: string (nullable = true)\n",
      " |-- registered_via: long (nullable = true)\n",
      " |-- registration_init_time: long (nullable = true)\n",
      "\n"
     ]
    },
    {
     "name": "stderr",
     "output_type": "stream",
     "text": [
      "[Stage 9:>                                                          (0 + 1) / 1]"
     ]
    },
    {
     "name": "stdout",
     "output_type": "stream",
     "text": [
      "+--------------------------------------------+----+---+------+--------------+----------------------+\n",
      "|msno                                        |city|bd |gender|registered_via|registration_init_time|\n",
      "+--------------------------------------------+----+---+------+--------------+----------------------+\n",
      "|++4RuqBw0Ss6bQU4oMxaRlbBPoWzoEiIZaxPM04Y4+U=|1   |0  |null  |7             |20140714              |\n",
      "|+/namlXq+u3izRjHCFJV4MgqcXcLidZYszVsROOq/y4=|15  |31 |male  |9             |20060603              |\n",
      "|+0/X9tkmyHyet9X80G6GTrDFHnJqvai8d1ZPhayT0os=|9   |31 |male  |9             |20040330              |\n",
      "|+09YGn842g6h2EZUXe0VWeC4bBoCbDGfUboitc0vIHw=|15  |29 |male  |9             |20080322              |\n",
      "|+0RJtbyhoPAHPa+34MkYcE2Ox0cjMgJOTXMXVBYgkJE=|13  |29 |female|3             |20120612              |\n",
      "+--------------------------------------------+----+---+------+--------------+----------------------+\n",
      "only showing top 5 rows\n",
      "\n"
     ]
    },
    {
     "name": "stderr",
     "output_type": "stream",
     "text": [
      "                                                                                \r"
     ]
    }
   ],
   "source": [
    "# Selecting the \"msno\" column from the \"trans_model_df\" DataFrame\n",
    "train_keys = tables[\"train\"].select(\"msno\")\n",
    "\n",
    "# filter by Inner join the member DataFrame with the train DataFrame keys\n",
    "member_df_filter= tables[\"member\"].join(train_keys, on=[\"msno\"], how=\"inner\")\n",
    "\n",
    "# Create an instance of DataFrameInfoDisplay to show information about the member DataFrame\n",
    "member_info = pk.DataFrameInfoDisplay(member_df_filter)\n",
    "\n",
    "# Display the schema of the member DataFrame\n",
    "member_info.display_info(show_schema=True, show_data=True)"
   ]
  },
  {
   "cell_type": "code",
   "execution_count": 4,
   "id": "de6d7463-8609-4817-89ef-a757e43a5fbf",
   "metadata": {},
   "outputs": [
    {
     "name": "stderr",
     "output_type": "stream",
     "text": [
      "                                                                                \r"
     ]
    },
    {
     "name": "stdout",
     "output_type": "stream",
     "text": [
      "shape\n",
      " |-- rows: 877161\n",
      " |-- columns: 6\n",
      "root\n",
      " |-- msno: string (nullable = true)\n",
      " |-- city: string (nullable = true)\n",
      " |-- bd: string (nullable = true)\n",
      " |-- gender: string (nullable = false)\n",
      " |-- registered_via: string (nullable = true)\n",
      " |-- registration_init_time: string (nullable = true)\n",
      "\n"
     ]
    },
    {
     "name": "stderr",
     "output_type": "stream",
     "text": [
      "[Stage 16:>                                                         (0 + 1) / 1]"
     ]
    },
    {
     "name": "stdout",
     "output_type": "stream",
     "text": [
      "+--------------------------------------------+----+---+------+--------------+----------------------+\n",
      "|msno                                        |city|bd |gender|registered_via|registration_init_time|\n",
      "+--------------------------------------------+----+---+------+--------------+----------------------+\n",
      "|++4RuqBw0Ss6bQU4oMxaRlbBPoWzoEiIZaxPM04Y4+U=|1   |0  |0     |7             |2014-07-14            |\n",
      "|+/namlXq+u3izRjHCFJV4MgqcXcLidZYszVsROOq/y4=|15  |31 |1     |9             |2006-06-03            |\n",
      "|+0/X9tkmyHyet9X80G6GTrDFHnJqvai8d1ZPhayT0os=|9   |31 |1     |9             |2004-03-30            |\n",
      "|+09YGn842g6h2EZUXe0VWeC4bBoCbDGfUboitc0vIHw=|15  |29 |1     |9             |2008-03-22            |\n",
      "|+0RJtbyhoPAHPa+34MkYcE2Ox0cjMgJOTXMXVBYgkJE=|13  |29 |2     |3             |2012-06-12            |\n",
      "+--------------------------------------------+----+---+------+--------------+----------------------+\n",
      "only showing top 5 rows\n",
      "\n"
     ]
    },
    {
     "name": "stderr",
     "output_type": "stream",
     "text": [
      "                                                                                \r"
     ]
    }
   ],
   "source": [
    "# Update the \"registration_init_time\" column\n",
    "# Replace NULLs with \"NAN\" and cast the column to a date format\n",
    "member_df = member_df_filter.withColumn(\n",
    "    \"registration_init_time\",\n",
    "    pk.when(pk.col(\"registration_init_time\").isNotNull(),\n",
    "            pk.to_date(pk.col(\"registration_init_time\").cast(\"string\"), \"yyyyMMdd\")\n",
    "           ).otherwise(\"NAN\")\n",
    ")\n",
    "\n",
    "# Fill missing values in the \"gender\" column with \"NAN\"\n",
    "member_df = member_df.fillna(\"NAN\", subset=[\"gender\"])\n",
    "\n",
    "# Convert gender values to numeric codes\n",
    "# NAN becomes 0, male becomes 1, and female becomes 2\n",
    "member_df = member_df.withColumn(\n",
    "    \"gender\",\n",
    "    pk.when(pk.col(\"gender\") == \"NAN\", 0)\n",
    "      .when(pk.col(\"gender\") == \"male\", 1)\n",
    "      .when(pk.col(\"gender\") == \"female\", 2)\n",
    "      .otherwise(pk.col(\"gender\"))\n",
    ")\n",
    "\n",
    "# Iterate through specified columns to replace null values with \"NAN\" and cast to int\n",
    "columns_to_replace = [\"city\", \"bd\", \"registered_via\"]\n",
    "for column in columns_to_replace:\n",
    "    member_df = member_df.withColumn(\n",
    "        column,\n",
    "        pk.when(pk.col(column).isNull(), \"NAN\").otherwise(pk.col(column).cast(\"int\"))\n",
    "    )\n",
    "\n",
    "# Display the schema and data of the updated member DataFrame\n",
    "member_df_info = pk.DataFrameInfoDisplay(member_df)\n",
    "member_df_info.display_info(show_schema=True, show_data=True)"
   ]
  },
  {
   "cell_type": "markdown",
   "id": "c74c46f1-acb1-43fa-beb8-d1c580c04717",
   "metadata": {},
   "source": [
    "<h4>1-1-2-1- Data and Model Noise</h4>"
   ]
  },
  {
   "cell_type": "markdown",
   "id": "818763fd-7617-4fb6-b25a-ee86aec6540d",
   "metadata": {},
   "source": [
    "<p align=\"justify\"><b>b)</b> Instances of duplicated data are identified by considering attributes such as city, bd, gender, and registered_via, with specific attention placed on scenarios where bd equals 0 and gender is labeled as NAN.</p>"
   ]
  },
  {
   "cell_type": "markdown",
   "id": "61615cca-0861-4395-9bc6-c26e4ed1f9f6",
   "metadata": {},
   "source": [
    "<b><ul><li>Noise evaluation</li></ul></b>"
   ]
  },
  {
   "cell_type": "code",
   "execution_count": 5,
   "id": "00c32b75-370e-4270-8a71-552fef9d5531",
   "metadata": {
    "tags": []
   },
   "outputs": [
    {
     "name": "stderr",
     "output_type": "stream",
     "text": [
      "                                                                                \r"
     ]
    },
    {
     "name": "stdout",
     "output_type": "stream",
     "text": [
      "+----+---+------+--------------+------+\n",
      "|city| bd|gender|registered_via| count|\n",
      "+----+---+------+--------------+------+\n",
      "|   1|  0|     0|             7|399071|\n",
      "|   1|  0|     0|             4| 16453|\n",
      "|   1|  0|     0|             9| 15651|\n",
      "|   1|  0|     0|             3|  6786|\n",
      "|  13|  0|     0|             9|  4072|\n",
      "|   1|  0|     0|            13|  2804|\n",
      "|   5|  0|     0|             9|  2660|\n",
      "|  13|  0|     0|             3|  2399|\n",
      "|  15|  0|     0|             9|  1635|\n",
      "|  13| 27|     1|             9|  1586|\n",
      "+----+---+------+--------------+------+\n",
      "only showing top 10 rows\n",
      "\n"
     ]
    }
   ],
   "source": [
    "# Group the data and count occurrences based on specified columns\n",
    "unit_count = member_df.groupBy(\"city\", \"bd\", \"gender\", \"registered_via\").count()\n",
    "\n",
    "# Order the grouped data by count in descending order and show the top 10\n",
    "top_10_unit_count = unit_count.orderBy(pk.col(\"count\").desc()).show(10)"
   ]
  },
  {
   "cell_type": "code",
   "execution_count": 6,
   "id": "a63d2da4-1202-46c7-8064-bca1397e2d0c",
   "metadata": {},
   "outputs": [
    {
     "name": "stderr",
     "output_type": "stream",
     "text": [
      "[Stage 32:===================================================>  (192 + 4) / 200]"
     ]
    },
    {
     "name": "stdout",
     "output_type": "stream",
     "text": [
      "result\n",
      " |-- count: 455389\n",
      " |-- out of total data: 51.92 %\n"
     ]
    },
    {
     "name": "stderr",
     "output_type": "stream",
     "text": [
      "                                                                                \r"
     ]
    }
   ],
   "source": [
    "# city=1 assesment\n",
    "city_1_df = member_df.filter(pk.col(\"city\") == 1)\n",
    "\n",
    "# Calculate and print the filtered result count and percentage\n",
    "print(f\"result\\n |-- count: {city_1_df.count()}\\n |-- out of total data: {round(city_1_df.count()/member_df.count(),4)*100} %\")"
   ]
  },
  {
   "cell_type": "markdown",
   "id": "0bcc5aa8-2f98-4a74-a20c-09a63ebedf0c",
   "metadata": {},
   "source": [
    "<h4>2-1-2-1- Observation</h4>"
   ]
  },
  {
   "cell_type": "markdown",
   "id": "271f3834-6d4e-4ab8-9b37-2596847dd337",
   "metadata": {},
   "source": [
    "<p align=\"justify\">The member dataset exhibits a presence 51.92% of the dataset originates from a specific city (city 1), yet lacks essential demographic details such as age and gender. This scenario gives rise to an imbalanced dataset, characterized by a substantial disparity in the representation of different cities. This imbalance can potentially introduce bias in machine learning model performance, leading it to disproportionately emphasize the predominant class while marginalizing the less prevalent classes. To mitigate this challenge, a judicious approach involves the development of a separate model dedicated to the analysis of city 1's data, thus fostering a more nuanced and equitable learning process.</p>"
   ]
  },
  {
   "cell_type": "code",
   "execution_count": 7,
   "id": "6666daa8-774f-499d-8d52-7bdc04839714",
   "metadata": {},
   "outputs": [
    {
     "name": "stderr",
     "output_type": "stream",
     "text": [
      "                                                                                \r"
     ]
    },
    {
     "name": "stdout",
     "output_type": "stream",
     "text": [
      "shape\n",
      " |-- rows: 421772\n",
      " |-- columns: 6\n",
      "root\n",
      " |-- msno: string (nullable = true)\n",
      " |-- city: string (nullable = true)\n",
      " |-- bd: string (nullable = true)\n",
      " |-- gender: string (nullable = false)\n",
      " |-- registered_via: string (nullable = true)\n",
      " |-- registration_init_time: string (nullable = true)\n",
      "\n"
     ]
    },
    {
     "name": "stderr",
     "output_type": "stream",
     "text": [
      "[Stage 47:=====================================================>(197 + 3) / 200]"
     ]
    },
    {
     "name": "stdout",
     "output_type": "stream",
     "text": [
      "+--------------------------------------------+----+---+------+--------------+----------------------+\n",
      "|msno                                        |city|bd |gender|registered_via|registration_init_time|\n",
      "+--------------------------------------------+----+---+------+--------------+----------------------+\n",
      "|++ViQ2i7L4hzLdBQ233Z8p4AxK9Vr38lSqZS09d2M84=|13  |22 |2     |3             |2015-02-25            |\n",
      "|+0lSGTZKwfVjc0s36k7YvJmF1DGqJft289lJCrcG/qI=|5   |22 |1     |9             |2015-10-03            |\n",
      "|+14H1v78CHVFv9RX3XusVZEj4f+YwWe3ozVjoUZSaVM=|6   |20 |0     |3             |2013-10-22            |\n",
      "|+1LjlnGGmNYWIQWnb6GxLzMT39zYK2/TFJHklUK139M=|13  |44 |1     |9             |2008-06-22            |\n",
      "|+1luNX1IrJn8MEXXdA9fHWWuCx+j5E5T+O6b7AGGJgk=|13  |18 |2     |3             |2013-12-13            |\n",
      "+--------------------------------------------+----+---+------+--------------+----------------------+\n",
      "only showing top 5 rows\n",
      "\n"
     ]
    },
    {
     "name": "stderr",
     "output_type": "stream",
     "text": [
      "                                                                                \r"
     ]
    }
   ],
   "source": [
    "# Create a new DataFrame 'member_model_df' by subtracting the contents of 'NAN_filtered_df' and 'city_1' from 'merge_df'.\n",
    "member_model_df = member_df.subtract(city_1_df)\n",
    "\n",
    "# Display the schema of the member DataFrame\n",
    "member_df_info = pk.DataFrameInfoDisplay(member_model_df)\n",
    "\n",
    "member_df_info.display_info(show_schema=True, show_data=True)"
   ]
  },
  {
   "cell_type": "markdown",
   "id": "9948b320-2fd9-4cc4-9bf8-5143a873b063",
   "metadata": {},
   "source": [
    "<h3>2-2-1- Transaction Data</h3>"
   ]
  },
  {
   "cell_type": "markdown",
   "id": "b5875893-542b-403e-8dc1-a8657f1bdb7d",
   "metadata": {},
   "source": [
    "<h4>1-2-2-1- Merge Function</h4>"
   ]
  },
  {
   "cell_type": "markdown",
   "id": "0738007e-912e-4d13-a703-b64c3fbcc89c",
   "metadata": {},
   "source": [
    "<b><ul><li>Transaction Data For \"member_model_df\"</li></ul></b>"
   ]
  },
  {
   "cell_type": "code",
   "execution_count": 8,
   "id": "4e719919-fd7f-4453-89d3-eaa5dca9c027",
   "metadata": {},
   "outputs": [
    {
     "name": "stderr",
     "output_type": "stream",
     "text": [
      "                                                                                \r"
     ]
    },
    {
     "name": "stdout",
     "output_type": "stream",
     "text": [
      "shape\n",
      " |-- rows: 431657\n",
      " |-- columns: 15\n",
      "root\n",
      " |-- msno: string (nullable = true)\n",
      " |-- city: string (nullable = true)\n",
      " |-- bd: string (nullable = true)\n",
      " |-- gender: string (nullable = false)\n",
      " |-- registered_via: string (nullable = true)\n",
      " |-- registration_init_time: string (nullable = true)\n",
      " |-- payment_method_id: long (nullable = true)\n",
      " |-- payment_plan_days: long (nullable = true)\n",
      " |-- plan_list_price: long (nullable = true)\n",
      " |-- actual_amount_paid: long (nullable = true)\n",
      " |-- is_auto_renew: long (nullable = true)\n",
      " |-- transaction_date: string (nullable = true)\n",
      " |-- membership_expire_date: string (nullable = true)\n",
      " |-- is_cancel: long (nullable = true)\n",
      " |-- exp_last: string (nullable = true)\n",
      "\n"
     ]
    },
    {
     "name": "stderr",
     "output_type": "stream",
     "text": [
      "[Stage 69:>                                                         (0 + 1) / 1]"
     ]
    },
    {
     "name": "stdout",
     "output_type": "stream",
     "text": [
      "+--------------------------------------------+----+---+------+--------------+----------------------+-----------------+-----------------+---------------+------------------+-------------+----------------+----------------------+---------+----------+\n",
      "|msno                                        |city|bd |gender|registered_via|registration_init_time|payment_method_id|payment_plan_days|plan_list_price|actual_amount_paid|is_auto_renew|transaction_date|membership_expire_date|is_cancel|exp_last  |\n",
      "+--------------------------------------------+----+---+------+--------------+----------------------+-----------------+-----------------+---------------+------------------+-------------+----------------+----------------------+---------+----------+\n",
      "|+/namlXq+u3izRjHCFJV4MgqcXcLidZYszVsROOq/y4=|15  |31 |1     |9             |2006-06-03            |34               |30               |149            |149               |1            |2017-02-28      |2017-03-31            |0        |2017-02-28|\n",
      "|+0/X9tkmyHyet9X80G6GTrDFHnJqvai8d1ZPhayT0os=|9   |31 |1     |9             |2004-03-30            |34               |30               |149            |149               |1            |2017-02-28      |2017-03-31            |0        |2017-02-28|\n",
      "|+09YGn842g6h2EZUXe0VWeC4bBoCbDGfUboitc0vIHw=|15  |29 |1     |9             |2008-03-22            |34               |30               |149            |149               |1            |2017-02-28      |2017-03-31            |0        |2017-02-28|\n",
      "|+0RJtbyhoPAHPa+34MkYcE2Ox0cjMgJOTXMXVBYgkJE=|13  |29 |2     |3             |2012-06-12            |32               |410              |1788           |1788              |0            |2016-01-14      |2017-02-27            |0        |NAN       |\n",
      "|+0jTOa6KGPk1vtNTwRDMZc/McUo41AeuwV3ndo54Y+Q=|5   |24 |2     |9             |2014-03-20            |23               |30               |149            |149               |1            |2017-01-31      |2017-03-03            |0        |2017-02-03|\n",
      "+--------------------------------------------+----+---+------+--------------+----------------------+-----------------+-----------------+---------------+------------------+-------------+----------------+----------------------+---------+----------+\n",
      "only showing top 5 rows\n",
      "\n"
     ]
    },
    {
     "name": "stderr",
     "output_type": "stream",
     "text": [
      "                                                                                \r"
     ]
    }
   ],
   "source": [
    "# Initialize the TransactionMerger class\n",
    "member_merger = pk.TransactionMerger(member_model_df, tables[\"transactions\"])\n",
    "\n",
    "# Merge transactions and get the new dataframe\n",
    "member_trans_df = member_merger.merge_transactions()\n",
    "\n",
    "# Display shape, schema, and data information\n",
    "member_merger.display_merged_info(member_trans_df)"
   ]
  },
  {
   "cell_type": "markdown",
   "id": "29b85ce5-214a-42f5-a4f1-1cfe479e227d",
   "metadata": {},
   "source": [
    "<b><ul><li>Transaction Data For \"city_1_df\"</li></ul></b>"
   ]
  },
  {
   "cell_type": "code",
   "execution_count": 9,
   "id": "377e009a-25b9-48ef-b0fb-b2391bd26f9e",
   "metadata": {},
   "outputs": [
    {
     "name": "stderr",
     "output_type": "stream",
     "text": [
      "                                                                                \r"
     ]
    },
    {
     "name": "stdout",
     "output_type": "stream",
     "text": [
      "shape\n",
      " |-- rows: 468169\n",
      " |-- columns: 15\n",
      "root\n",
      " |-- msno: string (nullable = true)\n",
      " |-- city: string (nullable = true)\n",
      " |-- bd: string (nullable = true)\n",
      " |-- gender: string (nullable = false)\n",
      " |-- registered_via: string (nullable = true)\n",
      " |-- registration_init_time: string (nullable = true)\n",
      " |-- payment_method_id: long (nullable = true)\n",
      " |-- payment_plan_days: long (nullable = true)\n",
      " |-- plan_list_price: long (nullable = true)\n",
      " |-- actual_amount_paid: long (nullable = true)\n",
      " |-- is_auto_renew: long (nullable = true)\n",
      " |-- transaction_date: string (nullable = true)\n",
      " |-- membership_expire_date: string (nullable = true)\n",
      " |-- is_cancel: long (nullable = true)\n",
      " |-- exp_last: string (nullable = true)\n",
      "\n"
     ]
    },
    {
     "name": "stderr",
     "output_type": "stream",
     "text": [
      "[Stage 79:======================================================> (49 + 1) / 50]"
     ]
    },
    {
     "name": "stdout",
     "output_type": "stream",
     "text": [
      "+--------------------------------------------+----+---+------+--------------+----------------------+-----------------+-----------------+---------------+------------------+-------------+----------------+----------------------+---------+----------+\n",
      "|msno                                        |city|bd |gender|registered_via|registration_init_time|payment_method_id|payment_plan_days|plan_list_price|actual_amount_paid|is_auto_renew|transaction_date|membership_expire_date|is_cancel|exp_last  |\n",
      "+--------------------------------------------+----+---+------+--------------+----------------------+-----------------+-----------------+---------------+------------------+-------------+----------------+----------------------+---------+----------+\n",
      "|++4RuqBw0Ss6bQU4oMxaRlbBPoWzoEiIZaxPM04Y4+U=|1   |0  |0     |7             |2014-07-14            |41               |30               |149            |149               |1            |2017-02-13      |2017-03-13            |0        |2017-02-13|\n",
      "|+2eLsQv6T46iKwO+m+r6OFI2X3Oc9dGBMdti2COAe4w=|1   |0  |0     |7             |2012-12-17            |41               |30               |99             |99                |1            |2017-02-05      |2017-03-05            |0        |2017-02-05|\n",
      "|+2sYXqnHWBACTG4Pyd0rBECqU/XZtiW9HfYdGztJXdk=|1   |0  |0     |7             |2014-04-24            |36               |30               |180            |180               |1            |2017-02-13      |2017-03-12            |0        |2017-02-12|\n",
      "|+2vC1rM36Emx77UanRb3cUohWiIf7knfVIDO2+R78BE=|1   |0  |0     |7             |2013-10-04            |41               |30               |149            |149               |1            |2017-02-03      |2017-03-03            |0        |2017-02-03|\n",
      "|+4XdQOd2lqwKAzUkLHKqaJcUvrtKNo0FKRAGQ+Us9vw=|1   |0  |0     |9             |2016-09-08            |30               |30               |100            |100               |1            |2017-02-08      |2017-03-07            |0        |2017-02-07|\n",
      "+--------------------------------------------+----+---+------+--------------+----------------------+-----------------+-----------------+---------------+------------------+-------------+----------------+----------------------+---------+----------+\n",
      "only showing top 5 rows\n",
      "\n"
     ]
    },
    {
     "name": "stderr",
     "output_type": "stream",
     "text": [
      "                                                                                \r"
     ]
    }
   ],
   "source": [
    "# Initialize the TransactionMerger class\n",
    "city_merger = pk.TransactionMerger(city_1_df, tables[\"transactions\"])\n",
    "\n",
    "# Merge transactions and get the new dataframe\n",
    "city_trans_df = city_merger.merge_transactions()\n",
    "\n",
    "# Display shape, schema, and data information\n",
    "city_merger.display_merged_info(city_trans_df)"
   ]
  },
  {
   "cell_type": "markdown",
   "id": "1f353d79-91e5-4447-88e4-109cda899b62",
   "metadata": {},
   "source": [
    "<h4>2-2-2-1- Data and Model Noise</h4>"
   ]
  },
  {
   "cell_type": "markdown",
   "id": "1ef2fcca-b30e-4b3d-9340-46d9eadf61b0",
   "metadata": {},
   "source": [
    "<b>a) Columns Error</b>\n",
    "<p align=\"justify\"><b>a-1) </b>The 'msno' column has matching 'transaction_date' and 'membership_expire_date' values, but differs in other columns such as errors in the 'is_cancel' column, which are distinct for the below example. In this context, the 'exp_last' value is null.</p>"
   ]
  },
  {
   "cell_type": "code",
   "execution_count": 10,
   "id": "a066d842-8a72-4572-a267-1cf1ea23250b",
   "metadata": {},
   "outputs": [
    {
     "name": "stderr",
     "output_type": "stream",
     "text": [
      "23/08/30 20:52:27 WARN org.apache.spark.util.Utils: Truncated the string representation of a plan since it was too large. This behavior can be adjusted by setting 'spark.debug.maxToStringFields' in SparkEnv.conf.\n",
      "                                                                                \r"
     ]
    },
    {
     "name": "stdout",
     "output_type": "stream",
     "text": [
      "⚠️ Warning: Column [\u001b[1mis_cancel\u001b[0m] has 2 distinct values\n",
      "⚠️ Warning: Column [\u001b[1mexp_last\u001b[0m] has NULL values\n",
      "+--------------------+----+---+------+--------------+----------------------+-----------------+-----------------+---------------+------------------+-------------+----------------+----------------------+---------+--------+\n",
      "|                msno|city| bd|gender|registered_via|registration_init_time|payment_method_id|payment_plan_days|plan_list_price|actual_amount_paid|is_auto_renew|transaction_date|membership_expire_date|is_cancel|exp_last|\n",
      "+--------------------+----+---+------+--------------+----------------------+-----------------+-----------------+---------------+------------------+-------------+----------------+----------------------+---------+--------+\n",
      "|1M+OGzETqoIR33bo2...|   5| 38|     1|             9|            2006-01-29|               40|               30|            149|               149|            1|      2017-02-21|            2017-03-20|        1|     NAN|\n",
      "|1M+OGzETqoIR33bo2...|   5| 38|     1|             9|            2006-01-29|               40|               30|            149|               149|            1|      2017-02-21|            2017-03-20|        0|     NAN|\n",
      "+--------------------+----+---+------+--------------+----------------------+-----------------+-----------------+---------------+------------------+-------------+----------------+----------------------+---------+--------+\n",
      "\n"
     ]
    }
   ],
   "source": [
    "# Apply the noise_member function to the member_trans_df DataFrame for anonymization using the specified member key.\n",
    "noise_a_1_m = pk.noise_member(member_trans_df, \"1M+OGzETqoIR33bo2mzrTP3p8jOFyVdUX5vJ3KLe2ms=\")"
   ]
  },
  {
   "cell_type": "markdown",
   "id": "7e12b11d-053c-4095-b3bc-b7055610f336",
   "metadata": {},
   "source": [
    "<p align=\"justify\"><b>a-2) </b> The \"msno\" shares identical \"transaction_date\" and \"membership_expire_date,\" but has errors in the \"exp_last\" column. </p>"
   ]
  },
  {
   "cell_type": "markdown",
   "id": "862c7e52-9989-4990-90c1-c16b55fbecdc",
   "metadata": {},
   "source": [
    "<b><ul><li>In \"member_trans_df\"</li></ul></b>"
   ]
  },
  {
   "cell_type": "code",
   "execution_count": 11,
   "id": "d7d7ed6d-8ea3-4a1f-977e-9246636fdb68",
   "metadata": {},
   "outputs": [
    {
     "name": "stderr",
     "output_type": "stream",
     "text": [
      "                                                                                \r"
     ]
    },
    {
     "name": "stdout",
     "output_type": "stream",
     "text": [
      "⚠️ Warning: Column [\u001b[1mexp_last\u001b[0m] has 32 distinct values\n",
      "+--------------------+----+---+------+--------------+----------------------+-----------------+-----------------+---------------+------------------+-------------+----------------+----------------------+---------+----------+\n",
      "|                msno|city| bd|gender|registered_via|registration_init_time|payment_method_id|payment_plan_days|plan_list_price|actual_amount_paid|is_auto_renew|transaction_date|membership_expire_date|is_cancel|  exp_last|\n",
      "+--------------------+----+---+------+--------------+----------------------+-----------------+-----------------+---------------+------------------+-------------+----------------+----------------------+---------+----------+\n",
      "|ya/pbMnE1Bc9NXQIQ...|  13| 18|     1|             4|            2016-02-22|               38|               30|            149|               149|            0|      2017-01-06|            2017-02-06|        0|2016-03-13|\n",
      "|ya/pbMnE1Bc9NXQIQ...|  13| 18|     1|             4|            2016-02-22|               38|               30|            149|               149|            0|      2017-01-06|            2017-02-06|        0|2016-03-23|\n",
      "|ya/pbMnE1Bc9NXQIQ...|  13| 18|     1|             4|            2016-02-22|               38|               30|            149|               149|            0|      2017-01-06|            2017-02-06|        0|2016-04-12|\n",
      "|ya/pbMnE1Bc9NXQIQ...|  13| 18|     1|             4|            2016-02-22|               38|               30|            149|               149|            0|      2017-01-06|            2017-02-06|        0|2016-05-22|\n",
      "|ya/pbMnE1Bc9NXQIQ...|  13| 18|     1|             4|            2016-02-22|               38|               30|            149|               149|            0|      2017-01-06|            2017-02-06|        0|2016-04-02|\n",
      "+--------------------+----+---+------+--------------+----------------------+-----------------+-----------------+---------------+------------------+-------------+----------------+----------------------+---------+----------+\n",
      "only showing top 5 rows\n",
      "\n"
     ]
    }
   ],
   "source": [
    "# Apply the noise_member function to the member_trans_df DataFrame for anonymization using the specified member key.\n",
    "noise_a_2_m = pk.noise_member(member_trans_df, \"ya/pbMnE1Bc9NXQIQ3r9avpXJet0hiNQEgy8QMG98ZI=\")"
   ]
  },
  {
   "cell_type": "markdown",
   "id": "ab27de9d-832a-4ddd-9a76-cfcc9a187fd9",
   "metadata": {},
   "source": [
    "<b><ul><li>In \"city_trans_df\"</li></ul></b>"
   ]
  },
  {
   "cell_type": "code",
   "execution_count": 12,
   "id": "f3eddf1e-906b-4831-8942-9c594aad180d",
   "metadata": {},
   "outputs": [
    {
     "name": "stderr",
     "output_type": "stream",
     "text": [
      "                                                                                \r"
     ]
    },
    {
     "name": "stdout",
     "output_type": "stream",
     "text": [
      "⚠️ Warning: Column [\u001b[1mexp_last\u001b[0m] has 2 distinct values\n",
      "+--------------------+----+---+------+--------------+----------------------+-----------------+-----------------+---------------+------------------+-------------+----------------+----------------------+---------+----------+\n",
      "|                msno|city| bd|gender|registered_via|registration_init_time|payment_method_id|payment_plan_days|plan_list_price|actual_amount_paid|is_auto_renew|transaction_date|membership_expire_date|is_cancel|  exp_last|\n",
      "+--------------------+----+---+------+--------------+----------------------+-----------------+-----------------+---------------+------------------+-------------+----------------+----------------------+---------+----------+\n",
      "|rjrMVdeV2c289rwjk...|   1|  0|     0|             7|            2014-10-02|               41|               30|             99|                99|            1|      2017-02-10|            2017-03-10|        0|2017-01-11|\n",
      "|rjrMVdeV2c289rwjk...|   1|  0|     0|             7|            2014-10-02|               41|               30|             99|                99|            1|      2017-02-10|            2017-03-10|        0|2017-02-10|\n",
      "|rjrMVdeV2c289rwjk...|   1|  0|     0|             7|            2014-10-02|               41|               30|             99|                99|            1|      2017-02-10|            2017-03-10|        0|2017-02-10|\n",
      "|rjrMVdeV2c289rwjk...|   1|  0|     0|             7|            2014-10-02|               41|               30|             99|                99|            1|      2017-02-10|            2017-03-10|        0|2017-01-11|\n",
      "+--------------------+----+---+------+--------------+----------------------+-----------------+-----------------+---------------+------------------+-------------+----------------+----------------------+---------+----------+\n",
      "\n"
     ]
    }
   ],
   "source": [
    "# Apply the noise_member function to the member_trans_df DataFrame for anonymization using the specified member key.\n",
    "noise_a_2_c = pk.noise_member(city_trans_df, \"rjrMVdeV2c289rwjkIOsL/4KNSE9wl60GdJkpYfGQPg=\")"
   ]
  },
  {
   "cell_type": "markdown",
   "id": "0cbe1869-3034-4ec7-88bc-a4f99bf0a301",
   "metadata": {},
   "source": [
    "<p align=\"justify\"><b>b) </b>The \"msno\" has one \"transaction_date\" and multiple distinct <b>\"membership_expire_date\"</b> values, with/without null.</p>"
   ]
  },
  {
   "cell_type": "code",
   "execution_count": 13,
   "id": "cba99e3e-9ed4-4c84-b8c7-af334c34d180",
   "metadata": {},
   "outputs": [
    {
     "name": "stderr",
     "output_type": "stream",
     "text": [
      "                                                                                \r"
     ]
    },
    {
     "name": "stdout",
     "output_type": "stream",
     "text": [
      "⚠️ Warning: Column [\u001b[1mmembership_expire_date\u001b[0m] has 48 distinct values\n",
      "⚠️ Warning: Column [\u001b[1mexp_last\u001b[0m] has NULL values\n",
      "+--------------------+----+---+------+--------------+----------------------+-----------------+-----------------+---------------+------------------+-------------+----------------+----------------------+---------+--------+\n",
      "|                msno|city| bd|gender|registered_via|registration_init_time|payment_method_id|payment_plan_days|plan_list_price|actual_amount_paid|is_auto_renew|transaction_date|membership_expire_date|is_cancel|exp_last|\n",
      "+--------------------+----+---+------+--------------+----------------------+-----------------+-----------------+---------------+------------------+-------------+----------------+----------------------+---------+--------+\n",
      "|pI0cMv4wwhvLTBJpJ...|   9| 26|     1|             9|            2015-11-30|               38|               10|              0|                 0|            0|      2015-11-30|            2017-03-24|        0|     NAN|\n",
      "|pI0cMv4wwhvLTBJpJ...|   9| 26|     1|             9|            2015-11-30|               38|               10|              0|                 0|            0|      2015-11-30|            2016-06-17|        0|     NAN|\n",
      "|pI0cMv4wwhvLTBJpJ...|   9| 26|     1|             9|            2015-11-30|               38|               10|              0|                 0|            0|      2015-11-30|            2017-02-02|        0|     NAN|\n",
      "|pI0cMv4wwhvLTBJpJ...|   9| 26|     1|             9|            2015-11-30|               38|               10|              0|                 0|            0|      2015-11-30|            2016-04-08|        0|     NAN|\n",
      "|pI0cMv4wwhvLTBJpJ...|   9| 26|     1|             9|            2015-11-30|               38|               10|              0|                 0|            0|      2015-11-30|            2016-07-07|        0|     NAN|\n",
      "+--------------------+----+---+------+--------------+----------------------+-----------------+-----------------+---------------+------------------+-------------+----------------+----------------------+---------+--------+\n",
      "only showing top 5 rows\n",
      "\n"
     ]
    }
   ],
   "source": [
    "# Apply the noise_member function to the member_trans_df DataFrame for anonymization using the specified member key.\n",
    "noise_b_m = pk.noise_member(member_trans_df, \"pI0cMv4wwhvLTBJpJSoHQrG6pdazfXo77JmRfKoyA6U=\")"
   ]
  },
  {
   "cell_type": "markdown",
   "id": "75a87084-31ea-445c-bda8-0eeb4f9b4460",
   "metadata": {},
   "source": [
    "<h4>3-2-2-1- Noise Evaluation</h4>"
   ]
  },
  {
   "cell_type": "markdown",
   "id": "38184724-e66a-4d00-9fe0-da967a189f3e",
   "metadata": {},
   "source": [
    "<b><ul><li>Noise a)</li></ul></b>"
   ]
  },
  {
   "cell_type": "code",
   "execution_count": 14,
   "id": "164dc3c4-4120-4886-b399-7ce71da90f7e",
   "metadata": {},
   "outputs": [
    {
     "name": "stderr",
     "output_type": "stream",
     "text": [
      "[Stage 411:====================================================>(199 + 1) / 200]"
     ]
    },
    {
     "name": "stdout",
     "output_type": "stream",
     "text": [
      "DataFrame Shape:\n",
      " |-- Number of Records: 8013\n",
      " |-- Number of Unique Cases: 3770\n"
     ]
    },
    {
     "name": "stderr",
     "output_type": "stream",
     "text": [
      "                                                                                \r"
     ]
    }
   ],
   "source": [
    "# Use the noise_finder function to apply noise to specific columns in the member_trans_df DataFrame\n",
    "# The function returns three variables: the noised DataFrame, noised data retention information, and the keys used for noise generation\n",
    "noise_a_member_df, noise_a_dr_member, noise_a_keys_member = pk.noise_finder(member_trans_df, [\"msno\", \"transaction_date\", \"membership_expire_date\"])"
   ]
  },
  {
   "cell_type": "code",
   "execution_count": 15,
   "id": "2cd6eac9-f2b5-4c7b-b43d-55e7311cc9b7",
   "metadata": {},
   "outputs": [
    {
     "name": "stderr",
     "output_type": "stream",
     "text": [
      "[Stage 436:====================================================>(198 + 2) / 200]"
     ]
    },
    {
     "name": "stdout",
     "output_type": "stream",
     "text": [
      "DataFrame Shape:\n",
      " |-- Number of Records: 11096\n",
      " |-- Number of Unique Cases: 5225\n"
     ]
    },
    {
     "name": "stderr",
     "output_type": "stream",
     "text": [
      "                                                                                \r"
     ]
    }
   ],
   "source": [
    "# Use the noise_finder function to apply noise to specific columns in the city_trans_df DataFrame\n",
    "# The function returns three variables: the noised DataFrame, noised data retention information, and the keys used for noise generation\n",
    "noise_a_city_df, noise_a_dr_city, noise_a_keys_city = pk.noise_finder(city_trans_df, [\"msno\", \"transaction_date\", \"membership_expire_date\"])"
   ]
  },
  {
   "cell_type": "markdown",
   "id": "65436284-190d-4f26-9c23-6448d63c4d35",
   "metadata": {},
   "source": [
    "<b><ul><li>Noise b)</li></ul></b>"
   ]
  },
  {
   "cell_type": "code",
   "execution_count": 16,
   "id": "7824f9d6-c357-420c-a3aa-1dcdf99a315b",
   "metadata": {},
   "outputs": [
    {
     "name": "stderr",
     "output_type": "stream",
     "text": [
      "[Stage 477:====================================================>(199 + 1) / 200]"
     ]
    },
    {
     "name": "stdout",
     "output_type": "stream",
     "text": [
      "DataFrame Shape:\n",
      " |-- Number of Records: 17605\n",
      " |-- Number of Unique Cases: 7720\n"
     ]
    },
    {
     "name": "stderr",
     "output_type": "stream",
     "text": [
      "                                                                                \r"
     ]
    }
   ],
   "source": [
    "# Use the noise_finder function to apply noise to specific columns in the member_trans_df DataFrame\n",
    "# The function returns three variables: the noised DataFrame, noised data retention information, and the keys used for noise generation\n",
    "noise_b_member_df, noise_b_dr_member, noise_b_keys_member = pk.noise_finder(member_trans_df, [\"msno\", \"transaction_date\"])"
   ]
  },
  {
   "cell_type": "code",
   "execution_count": 17,
   "id": "fca9fb6c-ef62-4b6f-8717-62bd7a9f84ae",
   "metadata": {},
   "outputs": [
    {
     "name": "stderr",
     "output_type": "stream",
     "text": [
      "[Stage 498:====================================================>(197 + 3) / 200]"
     ]
    },
    {
     "name": "stdout",
     "output_type": "stream",
     "text": [
      "DataFrame Shape:\n",
      " |-- Number of Records: 24459\n",
      " |-- Number of Unique Cases: 11679\n"
     ]
    },
    {
     "name": "stderr",
     "output_type": "stream",
     "text": [
      "                                                                                \r"
     ]
    }
   ],
   "source": [
    "# Use the noise_finder function to apply noise to specific columns in the city_trans_df DataFrame\n",
    "# The function returns three variables: the noised DataFrame, noised data retention information, and the keys used for noise generation\n",
    "noise_b_city_df, noise_b_dr_city, noise_b_keys_city = pk.noise_finder(city_trans_df, [\"msno\", \"transaction_date\"])"
   ]
  },
  {
   "cell_type": "markdown",
   "id": "5f92a6a6-2861-44b8-9f1d-0fd5aa8bf272",
   "metadata": {},
   "source": [
    "<h4>2-2-2-1- Observation</h4>"
   ]
  },
  {
   "cell_type": "code",
   "execution_count": 18,
   "id": "f94b6d5e-2997-498f-9534-02bd445553cc",
   "metadata": {},
   "outputs": [
    {
     "name": "stderr",
     "output_type": "stream",
     "text": [
      "                                                                                \r"
     ]
    },
    {
     "name": "stdout",
     "output_type": "stream",
     "text": [
      "shape\n",
      " |-- rows: 414052\n",
      " |-- columns: 15\n",
      "root\n",
      " |-- msno: string (nullable = true)\n",
      " |-- city: string (nullable = true)\n",
      " |-- bd: string (nullable = true)\n",
      " |-- gender: string (nullable = false)\n",
      " |-- registered_via: string (nullable = true)\n",
      " |-- registration_init_time: string (nullable = true)\n",
      " |-- payment_method_id: long (nullable = true)\n",
      " |-- payment_plan_days: long (nullable = true)\n",
      " |-- plan_list_price: long (nullable = true)\n",
      " |-- actual_amount_paid: long (nullable = true)\n",
      " |-- is_auto_renew: long (nullable = true)\n",
      " |-- transaction_date: string (nullable = true)\n",
      " |-- membership_expire_date: string (nullable = true)\n",
      " |-- is_cancel: long (nullable = true)\n",
      " |-- exp_last: string (nullable = true)\n",
      "\n"
     ]
    },
    {
     "name": "stderr",
     "output_type": "stream",
     "text": [
      "[Stage 582:=================================================>   (187 + 4) / 200]"
     ]
    },
    {
     "name": "stdout",
     "output_type": "stream",
     "text": [
      "+--------------------------------------------+----+---+------+--------------+----------------------+-----------------+-----------------+---------------+------------------+-------------+----------------+----------------------+---------+----------+\n",
      "|msno                                        |city|bd |gender|registered_via|registration_init_time|payment_method_id|payment_plan_days|plan_list_price|actual_amount_paid|is_auto_renew|transaction_date|membership_expire_date|is_cancel|exp_last  |\n",
      "+--------------------------------------------+----+---+------+--------------+----------------------+-----------------+-----------------+---------------+------------------+-------------+----------------+----------------------+---------+----------+\n",
      "|++gZjzjkC8lAqAtcOxAz0677Ygp0CE1hNqd3v9lRKG0=|5   |39 |1     |9             |2009-11-28            |33               |30               |149            |149               |1            |2017-01-31      |2017-03-21            |0        |2017-02-21|\n",
      "|+8XdwFIkon/uL7rOTn1wiArL4EIqr7O1Lox/W8vW95Q=|14  |31 |1     |9             |2007-09-03            |39               |30               |149            |149               |1            |2017-01-31      |2017-03-10            |0        |2017-02-10|\n",
      "|+9AHFPzPQ5uNV3bVQw9e/7nX06YuYxNr4Z/+jiv3wAI=|3   |0  |1     |9             |2015-10-04            |38               |30               |149            |149               |0            |2017-02-09      |2017-03-11            |0        |2017-02-07|\n",
      "|+BrapTLytsTzAa3681S+Jzc1y+a2d+mUVkIdOeEl6WM=|13  |32 |1     |9             |2006-10-23            |39               |30               |149            |149               |1            |2017-01-31      |2017-03-26            |0        |2017-02-26|\n",
      "|+CcwLNvXI7Z5/4q+asajUjMge0glM/HXWq1bCVIwNyo=|13  |0  |0     |9             |2015-04-24            |39               |30               |149            |149               |1            |2017-01-31      |2017-03-02            |0        |2017-02-02|\n",
      "+--------------------------------------------+----+---+------+--------------+----------------------+-----------------+-----------------+---------------+------------------+-------------+----------------+----------------------+---------+----------+\n",
      "only showing top 5 rows\n",
      "\n"
     ]
    },
    {
     "name": "stderr",
     "output_type": "stream",
     "text": [
      "                                                                                \r"
     ]
    }
   ],
   "source": [
    "# Create a new DataFrame 'trans_model_member_df' by subtracting the contents of 'noise_a_member_df' and 'noise_b_member_df' from 'member_trans_df'.\n",
    "trans_model_member_df = member_trans_df.subtract(noise_a_member_df).subtract(noise_b_member_df)\n",
    "\n",
    "# Create an instance of DataFrameInfoDisplay to show information about the member DataFrame\n",
    "trans_member_info = pk.DataFrameInfoDisplay(trans_model_member_df)\n",
    "\n",
    "# Display the schema of the member DataFrame\n",
    "trans_member_info.display_info(show_schema=True, show_data=True)"
   ]
  },
  {
   "cell_type": "code",
   "execution_count": 19,
   "id": "57305c84-7d35-4a62-9752-b3d8d946b9e0",
   "metadata": {},
   "outputs": [
    {
     "name": "stderr",
     "output_type": "stream",
     "text": [
      "                                                                                \r"
     ]
    },
    {
     "name": "stdout",
     "output_type": "stream",
     "text": [
      "shape\n",
      " |-- rows: 443710\n",
      " |-- columns: 15\n",
      "root\n",
      " |-- msno: string (nullable = true)\n",
      " |-- city: string (nullable = true)\n",
      " |-- bd: string (nullable = true)\n",
      " |-- gender: string (nullable = false)\n",
      " |-- registered_via: string (nullable = true)\n",
      " |-- registration_init_time: string (nullable = true)\n",
      " |-- payment_method_id: long (nullable = true)\n",
      " |-- payment_plan_days: long (nullable = true)\n",
      " |-- plan_list_price: long (nullable = true)\n",
      " |-- actual_amount_paid: long (nullable = true)\n",
      " |-- is_auto_renew: long (nullable = true)\n",
      " |-- transaction_date: string (nullable = true)\n",
      " |-- membership_expire_date: string (nullable = true)\n",
      " |-- is_cancel: long (nullable = true)\n",
      " |-- exp_last: string (nullable = true)\n",
      "\n"
     ]
    },
    {
     "name": "stderr",
     "output_type": "stream",
     "text": [
      "[Stage 635:====================================================>(198 + 2) / 200]"
     ]
    },
    {
     "name": "stdout",
     "output_type": "stream",
     "text": [
      "+--------------------------------------------+----+---+------+--------------+----------------------+-----------------+-----------------+---------------+------------------+-------------+----------------+----------------------+---------+----------+\n",
      "|msno                                        |city|bd |gender|registered_via|registration_init_time|payment_method_id|payment_plan_days|plan_list_price|actual_amount_paid|is_auto_renew|transaction_date|membership_expire_date|is_cancel|exp_last  |\n",
      "+--------------------------------------------+----+---+------+--------------+----------------------+-----------------+-----------------+---------------+------------------+-------------+----------------+----------------------+---------+----------+\n",
      "|++XryZQSzQL1Pn1aAPnoIJeFe6Z2DST999y5pOOdG4E=|1   |0  |0     |7             |2013-03-10            |41               |30               |149            |149               |1            |2017-02-27      |2017-03-27            |0        |2017-02-27|\n",
      "|+30BtsMGjSzCo1po1eJ+G/E5KVNsVzNAAPsxmCObNJs=|1   |0  |0     |7             |2011-11-04            |41               |30               |99             |99                |1            |2017-02-11      |2017-03-11            |0        |2017-02-11|\n",
      "|+3AR+k3DmWnLwGyAWVtUccYYgdJIvgacPkF58hdFHS4=|1   |0  |0     |7             |2015-01-25            |41               |30               |149            |149               |1            |2017-02-24      |2017-03-24            |0        |2017-02-24|\n",
      "|+F+uUA8kUv12UlVllgORpT8P7nrEusy0KQdgh0xGQf8=|1   |0  |0     |7             |2015-12-01            |41               |30               |99             |99                |1            |2017-02-28      |2017-03-31            |0        |2017-02-28|\n",
      "|+HDjeBRRARSmQI8DcK/yOoh3Hf7AMwFQoCjdPyOQFxs=|1   |0  |0     |7             |2015-04-28            |41               |30               |99             |99                |1            |2017-02-02      |2017-03-02            |0        |2017-02-02|\n",
      "+--------------------------------------------+----+---+------+--------------+----------------------+-----------------+-----------------+---------------+------------------+-------------+----------------+----------------------+---------+----------+\n",
      "only showing top 5 rows\n",
      "\n"
     ]
    }
   ],
   "source": [
    "# Create a new DataFrame 'trans_model_city_df' by subtracting the contents of 'noise_a_city_df' and 'noise_b_city_df' from 'city_trans_df'.\n",
    "trans_model_city_df = city_trans_df.subtract(noise_a_city_df).subtract(noise_b_city_df)\n",
    "\n",
    "# Create an instance of DataFrameInfoDisplay to show information about the member DataFrame\n",
    "trans_city_info = pk.DataFrameInfoDisplay(trans_model_city_df)\n",
    "\n",
    "# Display the schema of the member DataFrame\n",
    "trans_city_info.display_info(show_schema=True, show_data=True)"
   ]
  },
  {
   "cell_type": "markdown",
   "id": "fc301dd5-e014-47b7-a801-5e52d5df52e4",
   "metadata": {},
   "source": [
    "<h4>3-2-1- User Data</h4>"
   ]
  },
  {
   "cell_type": "code",
   "execution_count": 20,
   "id": "541ffc5c-330c-4348-af7f-a91cc234c58c",
   "metadata": {},
   "outputs": [
    {
     "name": "stderr",
     "output_type": "stream",
     "text": [
      "                                                                                \r"
     ]
    }
   ],
   "source": [
    "# filter activity data to just the closest to last data (january 2017)\n",
    "user_filter_df=tables[\"user\"].filter((pk.col(\"date\") >= \"20170101\") & (pk.col(\"date\") <= \"20170131\"))"
   ]
  },
  {
   "cell_type": "code",
   "execution_count": 21,
   "id": "9c72b12b-6680-4b42-91fa-85055c938483",
   "metadata": {},
   "outputs": [
    {
     "name": "stderr",
     "output_type": "stream",
     "text": [
      "[Stage 679:====================================================>(197 + 3) / 200]"
     ]
    },
    {
     "name": "stdout",
     "output_type": "stream",
     "text": [
      "shape\n",
      " |-- rows: 390673\n",
      " |-- columns: 24\n",
      "root\n",
      " |-- msno: string (nullable = true)\n",
      " |-- is_churn: long (nullable = true)\n",
      " |-- city: string (nullable = true)\n",
      " |-- bd: string (nullable = true)\n",
      " |-- gender: string (nullable = false)\n",
      " |-- registered_via: string (nullable = true)\n",
      " |-- registration_init_time: string (nullable = true)\n",
      " |-- payment_method_id: long (nullable = true)\n",
      " |-- payment_plan_days: long (nullable = true)\n",
      " |-- plan_list_price: long (nullable = true)\n",
      " |-- actual_amount_paid: long (nullable = true)\n",
      " |-- is_auto_renew: long (nullable = true)\n",
      " |-- transaction_date: string (nullable = true)\n",
      " |-- membership_expire_date: string (nullable = true)\n",
      " |-- is_cancel: long (nullable = true)\n",
      " |-- exp_last: string (nullable = true)\n",
      " |-- activity_count: string (nullable = true)\n",
      " |-- sum_num_25: long (nullable = true)\n",
      " |-- sum_num_50: long (nullable = true)\n",
      " |-- sum_num_75: long (nullable = true)\n",
      " |-- sum_num_985: long (nullable = true)\n",
      " |-- sum_num_100: long (nullable = true)\n",
      " |-- sum_num_unq: long (nullable = true)\n",
      " |-- total_secs: double (nullable = true)\n",
      "\n"
     ]
    },
    {
     "name": "stderr",
     "output_type": "stream",
     "text": [
      "                                                                                \r"
     ]
    }
   ],
   "source": [
    "# Use the user_activity function to generate a model of member user activities based on transactional and user filter data\n",
    "member_model=pk.aggregate_user_activity(trans_model_member_df, user_filter_df, tables[\"train\"])"
   ]
  },
  {
   "cell_type": "code",
   "execution_count": 23,
   "id": "4aff80c0-2319-4e15-bab5-13ea40e7120d",
   "metadata": {},
   "outputs": [
    {
     "name": "stderr",
     "output_type": "stream",
     "text": [
      "[Stage 708:====================================================>(198 + 2) / 200]"
     ]
    },
    {
     "name": "stdout",
     "output_type": "stream",
     "text": [
      "shape\n",
      " |-- rows: 368486\n",
      " |-- columns: 24\n",
      "root\n",
      " |-- msno: string (nullable = true)\n",
      " |-- is_churn: long (nullable = true)\n",
      " |-- city: string (nullable = true)\n",
      " |-- bd: string (nullable = true)\n",
      " |-- gender: string (nullable = false)\n",
      " |-- registered_via: string (nullable = true)\n",
      " |-- registration_init_time: string (nullable = true)\n",
      " |-- payment_method_id: long (nullable = true)\n",
      " |-- payment_plan_days: long (nullable = true)\n",
      " |-- plan_list_price: long (nullable = true)\n",
      " |-- actual_amount_paid: long (nullable = true)\n",
      " |-- is_auto_renew: long (nullable = true)\n",
      " |-- transaction_date: string (nullable = true)\n",
      " |-- membership_expire_date: string (nullable = true)\n",
      " |-- is_cancel: long (nullable = true)\n",
      " |-- exp_last: string (nullable = true)\n",
      " |-- activity_count: string (nullable = true)\n",
      " |-- sum_num_25: long (nullable = true)\n",
      " |-- sum_num_50: long (nullable = true)\n",
      " |-- sum_num_75: long (nullable = true)\n",
      " |-- sum_num_985: long (nullable = true)\n",
      " |-- sum_num_100: long (nullable = true)\n",
      " |-- sum_num_unq: long (nullable = true)\n",
      " |-- total_secs: double (nullable = true)\n",
      "\n"
     ]
    },
    {
     "name": "stderr",
     "output_type": "stream",
     "text": [
      "                                                                                \r"
     ]
    }
   ],
   "source": [
    "# Use the user_activity function to generate a model of city user activities based on transactional and user filter data\n",
    "city_model=pk.aggregate_user_activity(trans_model_city_df, user_filter_df, tables[\"train\"])"
   ]
  },
  {
   "cell_type": "markdown",
   "id": "d793c506-1f01-4a8f-8800-432611a6852b",
   "metadata": {},
   "source": [
    "<h4>4-2-1- Save Data in Google Storage</h4>"
   ]
  },
  {
   "cell_type": "code",
   "execution_count": 24,
   "id": "c2dd8654-5159-459d-9bcb-7d278608d353",
   "metadata": {},
   "outputs": [
    {
     "name": "stderr",
     "output_type": "stream",
     "text": [
      "                                                                                \r"
     ]
    }
   ],
   "source": [
    "# save member model data\n",
    "pk.save_model_data(member_model, \"gs://kkbox_data_churn\", \"model_member_main\")"
   ]
  },
  {
   "cell_type": "code",
   "execution_count": 25,
   "id": "549002a4-c714-4a76-800b-bb4de97372c5",
   "metadata": {},
   "outputs": [
    {
     "name": "stderr",
     "output_type": "stream",
     "text": [
      "                                                                                \r"
     ]
    }
   ],
   "source": [
    "# save city model data\n",
    "pk.save_model_data(city_model, \"gs://kkbox_data_churn\", \"model_city_main\")"
   ]
  }
 ],
 "metadata": {
  "kernelspec": {
   "display_name": "PySpark (Local)",
   "language": "python",
   "name": "local-pyspark"
  },
  "language_info": {
   "codemirror_mode": {
    "name": "ipython",
    "version": 3
   },
   "file_extension": ".py",
   "mimetype": "text/x-python",
   "name": "python",
   "nbconvert_exporter": "python",
   "pygments_lexer": "ipython3",
   "version": "3.7.12"
  }
 },
 "nbformat": 4,
 "nbformat_minor": 5
}
