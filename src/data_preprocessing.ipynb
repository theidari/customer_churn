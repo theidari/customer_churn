{
 "cells": [
  {
   "cell_type": "code",
   "execution_count": 1,
   "id": "344dcd4f-272f-4b8d-92d9-3728e5df799b",
   "metadata": {},
   "outputs": [],
   "source": [
    "# Dependencies and Setup\n",
    "from google.cloud import bigquery"
   ]
  },
  {
   "cell_type": "code",
   "execution_count": 2,
   "id": "b7d64a0d-2666-47fe-8f45-7594e1ae853d",
   "metadata": {},
   "outputs": [],
   "source": [
    "# A class to handle data loading from BigQuery and retrieval in Spark\n",
    "class DataToSpark():\n",
    "    def __init__(self, project_id, dataset_id):\n",
    "        # Initialize the class with the specified project and dataset identifiers\n",
    "        self.project_id = project_id\n",
    "        self.dataset_id = dataset_id\n",
    "\n",
    "    def load_tables(self, tables = []):\n",
    "        # Load tables into DataFrames and store them in a dictionary\n",
    "        self.df_tables = {}  # Dictionary to store DataFrames\n",
    "        for i, table in enumerate(tables):\n",
    "            df_table = spark.read.format(\"bigquery\").option(\"table\", f\"{self.project_id}:{self.dataset_id}.{table}\").load()\n",
    "            self.df_tables[table] = df_table\n",
    "\n",
    "    def get_tables(self):\n",
    "        # Retrieve the stored DataFrames\n",
    "        return self.df_tables"
   ]
  },
  {
   "cell_type": "code",
   "execution_count": 3,
   "id": "80ce3dde-7af0-401e-847d-66ee578ceedf",
   "metadata": {},
   "outputs": [
    {
     "name": "stdout",
     "output_type": "stream",
     "text": [
      "member\n"
     ]
    },
    {
     "name": "stderr",
     "output_type": "stream",
     "text": [
      "                                                                                \r"
     ]
    },
    {
     "name": "stdout",
     "output_type": "stream",
     "text": [
      "+--------------------+----+---+------+--------------+----------------------+\n",
      "|                msno|city| bd|gender|registered_via|registration_init_time|\n",
      "+--------------------+----+---+------+--------------+----------------------+\n",
      "|9WrxbPwgc2BqHbNc2...|  13|  0|  null|             9|              20120320|\n",
      "+--------------------+----+---+------+--------------+----------------------+\n",
      "only showing top 1 row\n",
      "\n",
      "user\n"
     ]
    },
    {
     "name": "stderr",
     "output_type": "stream",
     "text": [
      "                                                                                \r"
     ]
    },
    {
     "name": "stdout",
     "output_type": "stream",
     "text": [
      "+--------------------+--------+------+------+------+-------+-------+-------+----------+\n",
      "|                msno|    date|num_25|num_50|num_75|num_985|num_100|num_unq|total_secs|\n",
      "+--------------------+--------+------+------+------+-------+-------+-------+----------+\n",
      "|FnqNUBvN8mysLeKba...|20160119|    34|     1|     1|      1|     88|    108| 24172.471|\n",
      "+--------------------+--------+------+------+------+-------+-------+-------+----------+\n",
      "only showing top 1 row\n",
      "\n",
      "transactions\n",
      "+--------------------+-----------------+-----------------+---------------+------------------+-------------+----------------+----------------------+---------+\n",
      "|                msno|payment_method_id|payment_plan_days|plan_list_price|actual_amount_paid|is_auto_renew|transaction_date|membership_expire_date|is_cancel|\n",
      "+--------------------+-----------------+-----------------+---------------+------------------+-------------+----------------+----------------------+---------+\n",
      "|XAlvqCcO2lyDZNz4N...|                2|              410|           1788|              1788|            0|        20150616|              20160730|        0|\n",
      "+--------------------+-----------------+-----------------+---------------+------------------+-------------+----------------+----------------------+---------+\n",
      "only showing top 1 row\n",
      "\n",
      "train\n",
      "+--------------------+--------+\n",
      "|                msno|is_churn|\n",
      "+--------------------+--------+\n",
      "|waLDQMmcOu2jLDaV1...|       1|\n",
      "+--------------------+--------+\n",
      "only showing top 1 row\n",
      "\n"
     ]
    }
   ],
   "source": [
    "# Instantiate the 'DataToSpark' class to handle KKBOX data\n",
    "kkbox = DataToSpark(\"customer-churn-391917\", \"kkbox\")\n",
    "\n",
    "# Load specific tables into DataFrames\n",
    "tables_to_load = [\"member\", \"user\", \"transactions\", \"train\"]\n",
    "kkbox.load_tables(tables_to_load)\n",
    "\n",
    "# Retrieve the stored DataFrames\n",
    "tables = kkbox.get_tables()\n",
    "\n",
    "# Display the first row of each table DataFrame\n",
    "for table_name, table_df in tables.items():\n",
    "    print(table_name)\n",
    "    table_df.show(1)"
   ]
  },
  {
   "cell_type": "code",
   "execution_count": null,
   "id": "97548b04-34a3-4987-8498-85fc1f350853",
   "metadata": {},
   "outputs": [],
   "source": []
  }
 ],
 "metadata": {
  "kernelspec": {
   "display_name": "PySpark (Local)",
   "language": "python",
   "name": "local-pyspark"
  },
  "language_info": {
   "codemirror_mode": {
    "name": "ipython",
    "version": 3
   },
   "file_extension": ".py",
   "mimetype": "text/x-python",
   "name": "python",
   "nbconvert_exporter": "python",
   "pygments_lexer": "ipython3",
   "version": "3.7.12"
  }
 },
 "nbformat": 4,
 "nbformat_minor": 5
}
